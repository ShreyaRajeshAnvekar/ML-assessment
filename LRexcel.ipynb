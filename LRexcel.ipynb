{
  "nbformat": 4,
  "nbformat_minor": 0,
  "metadata": {
    "colab": {
      "provenance": [],
      "mount_file_id": "1s3UdiIX2plQ7m7-NL5xft8w1iqWENGAd",
      "authorship_tag": "ABX9TyPmXnazP8+N1YFHjAEGwk3Q",
      "include_colab_link": true
    },
    "kernelspec": {
      "name": "python3",
      "display_name": "Python 3"
    },
    "language_info": {
      "name": "python"
    }
  },
  "cells": [
    {
      "cell_type": "markdown",
      "metadata": {
        "id": "view-in-github",
        "colab_type": "text"
      },
      "source": [
        "<a href=\"https://colab.research.google.com/github/ShreyaRajeshAnvekar/ML-assessment/blob/main/LRexcel.ipynb\" target=\"_parent\"><img src=\"https://colab.research.google.com/assets/colab-badge.svg\" alt=\"Open In Colab\"/></a>"
      ]
    },
    {
      "cell_type": "code",
      "execution_count": null,
      "metadata": {
        "id": "SE0LUPzalEKV",
        "colab": {
          "base_uri": "https://localhost:8080/"
        },
        "outputId": "634b6ca7-6258-4bd1-fb5e-6a64b16839ac"
      },
      "outputs": [
        {
          "output_type": "stream",
          "name": "stdout",
          "text": [
            "         Ship Mode   Profit  Unit Price  Shipping Cost       Customer Name\n",
            "0      Regular Air  -213.25       38.94          35.00  Muhammed MacIntyre\n",
            "1   Delivery Truck   457.81      208.16          68.02        Barry French\n",
            "2      Regular Air    46.71        8.69           2.99        Barry French\n",
            "3      Regular Air  1198.97      195.99           3.99       Clay Rozendal\n",
            "4      Regular Air    -4.72        5.28           2.99       Claudia Miner\n",
            "5      Regular Air   782.91       39.89           3.04     Neola Schneider\n",
            "6      Regular Air    93.80       15.74           1.39    Allen Rosenblatt\n",
            "7   Delivery Truck   440.72      100.98          26.22     Sylvia Foulston\n",
            "8      Regular Air  -481.04      100.98          69.00     Sylvia Foulston\n",
            "9      Regular Air   -11.68       65.99           5.26         Jim Radford\n",
            "10     Regular Air   313.58      155.99           8.99         Jim Radford\n",
            "11     Express Air    26.92        3.69           0.50      Carlos Soltero\n",
            "12     Regular Air    -5.77        4.71           0.70      Carlos Soltero\n",
            "13     Regular Air  -172.88       15.99          13.18         Carl Ludwig\n",
            "14     Regular Air  -144.55        4.89           4.93         Carl Ludwig\n",
            "15     Regular Air     5.76        2.88           0.70          Don Miller\n",
            "16     Regular Air   252.66       40.96           1.99          Jack Garza\n",
            "17  Delivery Truck -1766.01       95.95          74.35          Julia West\n",
            "18     Regular Air  -236.27        3.89           7.01      Eugene Barchas\n",
            "19  Delivery Truck    80.44      120.98          30.00      Eugene Barchas\n",
            "20     Regular Air   118.94      500.98           5.76      Eugene Barchas\n",
            "21  Delivery Truck  3424.22      500.98          26.00        Edward Hooks\n"
          ]
        }
      ],
      "source": [
        "import pandas as pd\n",
        "import numpy as np\n",
        "import matplotlib.pyplot as plt\n",
        "import random\n",
        "data=pd.read_csv('/content/drive/MyDrive/Data Refresh Sample Data.csv')\n",
        "print((data).to_string())\n",
        "\n",
        "\n"
      ]
    },
    {
      "cell_type": "code",
      "source": [],
      "metadata": {
        "id": "i47cE1hHGOow"
      },
      "execution_count": null,
      "outputs": []
    },
    {
      "cell_type": "code",
      "source": [
        "x=np.array([data['Unit Price']]).reshape((-1,1))\n",
        "y=np.array(data['Profit'])\n",
        "\n",
        "print(\"Unit Price\",x)\n",
        "print(\"Profit\",y)\n",
        "plt.scatter(x,y)\n",
        "plt.xlabel(\"Unit Price\")\n",
        "plt.ylabel(\"Profit\")"
      ],
      "metadata": {
        "id": "Wm1Y_sUNtc5i",
        "colab": {
          "base_uri": "https://localhost:8080/",
          "height": 900
        },
        "outputId": "b38ff87e-3b31-43cb-98d1-eace42b8bbb9"
      },
      "execution_count": null,
      "outputs": [
        {
          "output_type": "stream",
          "name": "stdout",
          "text": [
            "Unit Price [[ 38.94]\n",
            " [208.16]\n",
            " [  8.69]\n",
            " [195.99]\n",
            " [  5.28]\n",
            " [ 39.89]\n",
            " [ 15.74]\n",
            " [100.98]\n",
            " [100.98]\n",
            " [ 65.99]\n",
            " [155.99]\n",
            " [  3.69]\n",
            " [  4.71]\n",
            " [ 15.99]\n",
            " [  4.89]\n",
            " [  2.88]\n",
            " [ 40.96]\n",
            " [ 95.95]\n",
            " [  3.89]\n",
            " [120.98]\n",
            " [500.98]\n",
            " [500.98]]\n",
            "Profit [ -213.25   457.81    46.71  1198.97    -4.72   782.91    93.8    440.72\n",
            "  -481.04   -11.68   313.58    26.92    -5.77  -172.88  -144.55     5.76\n",
            "   252.66 -1766.01  -236.27    80.44   118.94  3424.22]\n"
          ]
        },
        {
          "output_type": "execute_result",
          "data": {
            "text/plain": [
              "Text(0, 0.5, 'Profit')"
            ]
          },
          "metadata": {},
          "execution_count": 15
        },
        {
          "output_type": "display_data",
          "data": {
            "text/plain": [
              "<Figure size 640x480 with 1 Axes>"
            ],
            "image/png": "[encoded data removed]"
          },
          "metadata": {}
        }
      ]
    },
    {
      "cell_type": "code",
      "source": [
        "from sklearn.linear_model import LinearRegression\n",
        "SLR=LinearRegression()\n",
        "SLR.fit(x,y)\n",
        "pred=SLR.predict(x)\n",
        "\n",
        "from sklearn.metrics import mean_squared_log_error\n",
        "mse=mean_squared_log_error(y,pred)\n",
        "plt.plot(x,pred,color='g',marker='*')\n",
        "print(\"MSE:\",mse)\n",
        "print(\"intercept\",SLR.intercept_)\n",
        "print(\"Slope:\",SLR.coef_)"
      ],
      "metadata": {
        "colab": {
          "base_uri": "https://localhost:8080/",
          "height": 384
        },
        "id": "93maP2ljpLa6",
        "outputId": "ca113e72-fb9e-476d-83ab-acd9630858f2"
      },
      "execution_count": null,
      "outputs": [
        {
          "output_type": "error",
          "ename": "ValueError",
          "evalue": "ignored",
          "traceback": [
            "\u001b[0;31m---------------------------------------------------------------------------\u001b[0m",
            "\u001b[0;31mValueError\u001b[0m                                Traceback (most recent call last)",
            "\u001b[0;32m<ipython-input-16-97784e92e454>\u001b[0m in \u001b[0;36m<cell line: 7>\u001b[0;34m()\u001b[0m\n\u001b[1;32m      5\u001b[0m \u001b[0;34m\u001b[0m\u001b[0m\n\u001b[1;32m      6\u001b[0m \u001b[0;32mfrom\u001b[0m \u001b[0msklearn\u001b[0m\u001b[0;34m.\u001b[0m\u001b[0mmetrics\u001b[0m \u001b[0;32mimport\u001b[0m \u001b[0mmean_squared_log_error\u001b[0m\u001b[0;34m\u001b[0m\u001b[0;34m\u001b[0m\u001b[0m\n\u001b[0;32m----> 7\u001b[0;31m \u001b[0mmse\u001b[0m\u001b[0;34m=\u001b[0m\u001b[0mmean_squared_log_error\u001b[0m\u001b[0;34m(\u001b[0m\u001b[0my\u001b[0m\u001b[0;34m,\u001b[0m\u001b[0mpred\u001b[0m\u001b[0;34m)\u001b[0m\u001b[0;34m\u001b[0m\u001b[0;34m\u001b[0m\u001b[0m\n\u001b[0m\u001b[1;32m      8\u001b[0m \u001b[0mplt\u001b[0m\u001b[0;34m.\u001b[0m\u001b[0mplot\u001b[0m\u001b[0;34m(\u001b[0m\u001b[0mx\u001b[0m\u001b[0;34m,\u001b[0m\u001b[0mpred\u001b[0m\u001b[0;34m,\u001b[0m\u001b[0mcolor\u001b[0m\u001b[0;34m=\u001b[0m\u001b[0;34m'g'\u001b[0m\u001b[0;34m,\u001b[0m\u001b[0mmarker\u001b[0m\u001b[0;34m=\u001b[0m\u001b[0;34m'*'\u001b[0m\u001b[0;34m)\u001b[0m\u001b[0;34m\u001b[0m\u001b[0;34m\u001b[0m\u001b[0m\n\u001b[1;32m      9\u001b[0m \u001b[0mprint\u001b[0m\u001b[0;34m(\u001b[0m\u001b[0;34m\"MSE:\"\u001b[0m\u001b[0;34m,\u001b[0m\u001b[0mmse\u001b[0m\u001b[0;34m)\u001b[0m\u001b[0;34m\u001b[0m\u001b[0;34m\u001b[0m\u001b[0m\n",
            "\u001b[0;32m/usr/local/lib/python3.10/dist-packages/sklearn/metrics/_regression.py\u001b[0m in \u001b[0;36mmean_squared_log_error\u001b[0;34m(y_true, y_pred, sample_weight, multioutput, squared)\u001b[0m\n\u001b[1;32m    523\u001b[0m \u001b[0;34m\u001b[0m\u001b[0m\n\u001b[1;32m    524\u001b[0m     \u001b[0;32mif\u001b[0m \u001b[0;34m(\u001b[0m\u001b[0my_true\u001b[0m \u001b[0;34m<\u001b[0m \u001b[0;36m0\u001b[0m\u001b[0;34m)\u001b[0m\u001b[0;34m.\u001b[0m\u001b[0many\u001b[0m\u001b[0;34m(\u001b[0m\u001b[0;34m)\u001b[0m \u001b[0;32mor\u001b[0m \u001b[0;34m(\u001b[0m\u001b[0my_pred\u001b[0m \u001b[0;34m<\u001b[0m \u001b[0;36m0\u001b[0m\u001b[0;34m)\u001b[0m\u001b[0;34m.\u001b[0m\u001b[0many\u001b[0m\u001b[0;34m(\u001b[0m\u001b[0;34m)\u001b[0m\u001b[0;34m:\u001b[0m\u001b[0;34m\u001b[0m\u001b[0;34m\u001b[0m\u001b[0m\n\u001b[0;32m--> 525\u001b[0;31m         raise ValueError(\n\u001b[0m\u001b[1;32m    526\u001b[0m             \u001b[0;34m\"Mean Squared Logarithmic Error cannot be used when \"\u001b[0m\u001b[0;34m\u001b[0m\u001b[0;34m\u001b[0m\u001b[0m\n\u001b[1;32m    527\u001b[0m             \u001b[0;34m\"targets contain negative values.\"\u001b[0m\u001b[0;34m\u001b[0m\u001b[0;34m\u001b[0m\u001b[0m\n",
            "\u001b[0;31mValueError\u001b[0m: Mean Squared Logarithmic Error cannot be used when targets contain negative values."
          ]
        }
      ]
    },
    {
      "cell_type": "code",
      "source": [],
      "metadata": {
        "id": "7bmodeBOsJXA"
      },
      "execution_count": null,
      "outputs": []
    },
    {
      "cell_type": "code",
      "source": [],
      "metadata": {
        "id": "tEszH3_KtvCD"
      },
      "execution_count": null,
      "outputs": []
    }
  ]
}